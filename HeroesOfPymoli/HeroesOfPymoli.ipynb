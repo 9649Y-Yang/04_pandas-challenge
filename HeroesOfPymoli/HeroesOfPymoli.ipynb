{
 "cells": [
  {
   "cell_type": "markdown",
   "metadata": {},
   "source": [
    "# Homework  HeroesOfPymoli"
   ]
  },
  {
   "cell_type": "code",
   "execution_count": 1,
   "metadata": {},
   "outputs": [],
   "source": [
    "# Import Dependencies\n",
    "import pandas as pd"
   ]
  },
  {
   "cell_type": "code",
   "execution_count": 2,
   "metadata": {},
   "outputs": [
    {
     "data": {
      "text/html": [
       "<div>\n",
       "<style scoped>\n",
       "    .dataframe tbody tr th:only-of-type {\n",
       "        vertical-align: middle;\n",
       "    }\n",
       "\n",
       "    .dataframe tbody tr th {\n",
       "        vertical-align: top;\n",
       "    }\n",
       "\n",
       "    .dataframe thead th {\n",
       "        text-align: right;\n",
       "    }\n",
       "</style>\n",
       "<table border=\"1\" class=\"dataframe\">\n",
       "  <thead>\n",
       "    <tr style=\"text-align: right;\">\n",
       "      <th></th>\n",
       "      <th>Purchase ID</th>\n",
       "      <th>SN</th>\n",
       "      <th>Age</th>\n",
       "      <th>Gender</th>\n",
       "      <th>Item ID</th>\n",
       "      <th>Item Name</th>\n",
       "      <th>Price</th>\n",
       "    </tr>\n",
       "  </thead>\n",
       "  <tbody>\n",
       "    <tr>\n",
       "      <th>0</th>\n",
       "      <td>0</td>\n",
       "      <td>Lisim78</td>\n",
       "      <td>20</td>\n",
       "      <td>Male</td>\n",
       "      <td>108</td>\n",
       "      <td>Extraction, Quickblade Of Trembling Hands</td>\n",
       "      <td>3.53</td>\n",
       "    </tr>\n",
       "    <tr>\n",
       "      <th>1</th>\n",
       "      <td>1</td>\n",
       "      <td>Lisovynya38</td>\n",
       "      <td>40</td>\n",
       "      <td>Male</td>\n",
       "      <td>143</td>\n",
       "      <td>Frenzied Scimitar</td>\n",
       "      <td>1.56</td>\n",
       "    </tr>\n",
       "    <tr>\n",
       "      <th>2</th>\n",
       "      <td>2</td>\n",
       "      <td>Ithergue48</td>\n",
       "      <td>24</td>\n",
       "      <td>Male</td>\n",
       "      <td>92</td>\n",
       "      <td>Final Critic</td>\n",
       "      <td>4.88</td>\n",
       "    </tr>\n",
       "    <tr>\n",
       "      <th>3</th>\n",
       "      <td>3</td>\n",
       "      <td>Chamassasya86</td>\n",
       "      <td>24</td>\n",
       "      <td>Male</td>\n",
       "      <td>100</td>\n",
       "      <td>Blindscythe</td>\n",
       "      <td>3.27</td>\n",
       "    </tr>\n",
       "    <tr>\n",
       "      <th>4</th>\n",
       "      <td>4</td>\n",
       "      <td>Iskosia90</td>\n",
       "      <td>23</td>\n",
       "      <td>Male</td>\n",
       "      <td>131</td>\n",
       "      <td>Fury</td>\n",
       "      <td>1.44</td>\n",
       "    </tr>\n",
       "  </tbody>\n",
       "</table>\n",
       "</div>"
      ],
      "text/plain": [
       "   Purchase ID             SN  Age Gender  Item ID  \\\n",
       "0            0        Lisim78   20   Male      108   \n",
       "1            1    Lisovynya38   40   Male      143   \n",
       "2            2     Ithergue48   24   Male       92   \n",
       "3            3  Chamassasya86   24   Male      100   \n",
       "4            4      Iskosia90   23   Male      131   \n",
       "\n",
       "                                   Item Name  Price  \n",
       "0  Extraction, Quickblade Of Trembling Hands   3.53  \n",
       "1                          Frenzied Scimitar   1.56  \n",
       "2                               Final Critic   4.88  \n",
       "3                                Blindscythe   3.27  \n",
       "4                                       Fury   1.44  "
      ]
     },
     "execution_count": 2,
     "metadata": {},
     "output_type": "execute_result"
    }
   ],
   "source": [
    " # Make a reference to the books.csv file path\n",
    "csv_path = \"Resources/purchase_data.csv\"\n",
    "\n",
    "# Import the purchase_data.csv file as a DataFrame\n",
    "purchase_data_df = pd.read_csv(csv_path, encoding=\"utf-8\")\n",
    "purchase_data_df.head()"
   ]
  },
  {
   "cell_type": "markdown",
   "metadata": {},
   "source": [
    "## Player Count"
   ]
  },
  {
   "cell_type": "code",
   "execution_count": 3,
   "metadata": {},
   "outputs": [
    {
     "data": {
      "text/html": [
       "<div>\n",
       "<style scoped>\n",
       "    .dataframe tbody tr th:only-of-type {\n",
       "        vertical-align: middle;\n",
       "    }\n",
       "\n",
       "    .dataframe tbody tr th {\n",
       "        vertical-align: top;\n",
       "    }\n",
       "\n",
       "    .dataframe thead th {\n",
       "        text-align: right;\n",
       "    }\n",
       "</style>\n",
       "<table border=\"1\" class=\"dataframe\">\n",
       "  <thead>\n",
       "    <tr style=\"text-align: right;\">\n",
       "      <th></th>\n",
       "      <th>Total Players</th>\n",
       "    </tr>\n",
       "  </thead>\n",
       "  <tbody>\n",
       "    <tr>\n",
       "      <th>0</th>\n",
       "      <td>576</td>\n",
       "    </tr>\n",
       "  </tbody>\n",
       "</table>\n",
       "</div>"
      ],
      "text/plain": [
       "   Total Players\n",
       "0            576"
      ]
     },
     "execution_count": 3,
     "metadata": {},
     "output_type": "execute_result"
    }
   ],
   "source": [
    "# Count Total Number of Players\n",
    "unique_player_df = purchase_data_df[\"SN\"].unique()\n",
    "display_player_count_dict = {\"Total Players\": len(unique_player_df)}\n",
    "display_player_count_df = pd.DataFrame(display_player_count_dict, index=[0])\n",
    "display_player_count_df"
   ]
  },
  {
   "cell_type": "markdown",
   "metadata": {},
   "source": [
    "## Purchasing Analysis (Total)"
   ]
  },
  {
   "cell_type": "code",
   "execution_count": 4,
   "metadata": {},
   "outputs": [
    {
     "data": {
      "text/html": [
       "<div>\n",
       "<style scoped>\n",
       "    .dataframe tbody tr th:only-of-type {\n",
       "        vertical-align: middle;\n",
       "    }\n",
       "\n",
       "    .dataframe tbody tr th {\n",
       "        vertical-align: top;\n",
       "    }\n",
       "\n",
       "    .dataframe thead th {\n",
       "        text-align: right;\n",
       "    }\n",
       "</style>\n",
       "<table border=\"1\" class=\"dataframe\">\n",
       "  <thead>\n",
       "    <tr style=\"text-align: right;\">\n",
       "      <th></th>\n",
       "      <th>Number of Unique Items</th>\n",
       "      <th>Average Price</th>\n",
       "      <th>Number of Purchases</th>\n",
       "      <th>Total Revenue</th>\n",
       "    </tr>\n",
       "  </thead>\n",
       "  <tbody>\n",
       "    <tr>\n",
       "      <th>0</th>\n",
       "      <td>179</td>\n",
       "      <td>$3.05</td>\n",
       "      <td>780</td>\n",
       "      <td>$2,379.77</td>\n",
       "    </tr>\n",
       "  </tbody>\n",
       "</table>\n",
       "</div>"
      ],
      "text/plain": [
       "   Number of Unique Items Average Price  Number of Purchases Total Revenue\n",
       "0                     179         $3.05                  780     $2,379.77"
      ]
     },
     "execution_count": 4,
     "metadata": {},
     "output_type": "execute_result"
    }
   ],
   "source": [
    "# Number of Unique Items\n",
    "unique_item_df = purchase_data_df[\"Item ID\"].unique()\n",
    "# Average Purchase Price\n",
    "average_price = purchase_data_df[\"Price\"].mean()\n",
    "ave_price_formatter = \"${:.2f}\".format\n",
    "average_price = ave_price_formatter(average_price)\n",
    "# Total Number of Purchases\n",
    "num_of_purchase = purchase_data_df[\"Purchase ID\"].count()\n",
    "# Total Revenue\n",
    "total_revenue = purchase_data_df[\"Price\"].sum()\n",
    "total_revenue_formatter = \"${:,.2f}\".format\n",
    "total_revenue = total_revenue_formatter(total_revenue)\n",
    "# Create a summary data frame to hold the results\n",
    "purchas_analysis_dict = {\n",
    "    \"Number of Unique Items\": len(unique_item_df),\n",
    "    \"Average Price\": average_price,\n",
    "    \"Number of Purchases\": num_of_purchase,\n",
    "    \"Total Revenue\": total_revenue\n",
    "}\n",
    "purchas_analysis_df = pd.DataFrame(purchas_analysis_dict, index=[0])\n",
    "purchas_analysis_df"
   ]
  },
  {
   "cell_type": "markdown",
   "metadata": {},
   "source": [
    "## Gender Demographics"
   ]
  },
  {
   "cell_type": "code",
   "execution_count": 5,
   "metadata": {
    "scrolled": false
   },
   "outputs": [
    {
     "data": {
      "text/html": [
       "<div>\n",
       "<style scoped>\n",
       "    .dataframe tbody tr th:only-of-type {\n",
       "        vertical-align: middle;\n",
       "    }\n",
       "\n",
       "    .dataframe tbody tr th {\n",
       "        vertical-align: top;\n",
       "    }\n",
       "\n",
       "    .dataframe thead th {\n",
       "        text-align: right;\n",
       "    }\n",
       "</style>\n",
       "<table border=\"1\" class=\"dataframe\">\n",
       "  <thead>\n",
       "    <tr style=\"text-align: right;\">\n",
       "      <th></th>\n",
       "      <th>Total Count</th>\n",
       "      <th>Percentage of Players</th>\n",
       "    </tr>\n",
       "    <tr>\n",
       "      <th>Gender</th>\n",
       "      <th></th>\n",
       "      <th></th>\n",
       "    </tr>\n",
       "  </thead>\n",
       "  <tbody>\n",
       "    <tr>\n",
       "      <th>Male</th>\n",
       "      <td>484</td>\n",
       "      <td>84.03%</td>\n",
       "    </tr>\n",
       "    <tr>\n",
       "      <th>Female</th>\n",
       "      <td>81</td>\n",
       "      <td>14.06%</td>\n",
       "    </tr>\n",
       "    <tr>\n",
       "      <th>Other / Non-Disclosed</th>\n",
       "      <td>11</td>\n",
       "      <td>1.91%</td>\n",
       "    </tr>\n",
       "  </tbody>\n",
       "</table>\n",
       "</div>"
      ],
      "text/plain": [
       "                       Total Count Percentage of Players\n",
       "Gender                                                  \n",
       "Male                           484                84.03%\n",
       "Female                          81                14.06%\n",
       "Other / Non-Disclosed           11                 1.91%"
      ]
     },
     "execution_count": 5,
     "metadata": {},
     "output_type": "execute_result"
    }
   ],
   "source": [
    "# Percentage and Count of Total Players\n",
    "unique_SN_data = purchase_data_df.drop_duplicates([\"SN\"])\n",
    "num_of_unique_player = unique_SN_data[\"SN\"].count()\n",
    "# Percentage and Count of Male Players\n",
    "male_player_df = unique_SN_data.loc[unique_SN_data[\"Gender\"] == \"Male\"]\n",
    "num_of_male_player = male_player_df[\"SN\"].count()\n",
    "percent_of_male_player = num_of_male_player/num_of_unique_player*100\n",
    "# Percentage and Count of Female Players\n",
    "female_player_df = unique_SN_data.loc[unique_SN_data[\"Gender\"] == \"Female\"]\n",
    "num_of_female_player = female_player_df[\"SN\"].count()\n",
    "percent_of_female_player = num_of_female_player/num_of_unique_player*100\n",
    "# Percentage and Count of Other / Non-Disclosed\n",
    "other_player_df = unique_SN_data.loc[unique_SN_data[\"Gender\"] == \"Other / Non-Disclosed\"]\n",
    "num_of_other_player = other_player_df[\"SN\"].count()\n",
    "percent_of_other_player = num_of_other_player/num_of_unique_player*100\n",
    "# Create a summary data frame to hold the results\n",
    "gender_list = [\n",
    "    {\"Gender\": \"Male\", \"Total Count\": num_of_male_player, \"Percentage of Players\": percent_of_male_player},\n",
    "    {\"Gender\": \"Female\", \"Total Count\": num_of_female_player, \"Percentage of Players\": percent_of_female_player},\n",
    "    {\"Gender\": \"Other / Non-Disclosed\", \"Total Count\": num_of_other_player, \"Percentage of Players\": percent_of_other_player}]\n",
    "unique_gender_analysis_df = pd.DataFrame(gender_list)\n",
    "# Format the percentage to xx.xx%\n",
    "unique_gender_analysis_df[\"Percentage of Players\"] = unique_gender_analysis_df[\"Percentage of Players\"].map(\"{:.2f}%\".format)\n",
    "unique_gender_analysis_df = unique_gender_analysis_df.set_index(\"Gender\")\n",
    "unique_gender_analysis_df"
   ]
  },
  {
   "cell_type": "markdown",
   "metadata": {},
   "source": [
    "## Purchasing Analysis (Gender)"
   ]
  },
  {
   "cell_type": "code",
   "execution_count": 7,
   "metadata": {},
   "outputs": [
    {
     "data": {
      "text/html": [
       "<div>\n",
       "<style scoped>\n",
       "    .dataframe tbody tr th:only-of-type {\n",
       "        vertical-align: middle;\n",
       "    }\n",
       "\n",
       "    .dataframe tbody tr th {\n",
       "        vertical-align: top;\n",
       "    }\n",
       "\n",
       "    .dataframe thead th {\n",
       "        text-align: right;\n",
       "    }\n",
       "</style>\n",
       "<table border=\"1\" class=\"dataframe\">\n",
       "  <thead>\n",
       "    <tr style=\"text-align: right;\">\n",
       "      <th></th>\n",
       "      <th>Purchase Count</th>\n",
       "      <th>Average Purchase Price</th>\n",
       "      <th>Total Purchase Value</th>\n",
       "      <th>Avg Total Purchase per Person</th>\n",
       "    </tr>\n",
       "    <tr>\n",
       "      <th>Gender</th>\n",
       "      <th></th>\n",
       "      <th></th>\n",
       "      <th></th>\n",
       "      <th></th>\n",
       "    </tr>\n",
       "  </thead>\n",
       "  <tbody>\n",
       "    <tr>\n",
       "      <th>Female</th>\n",
       "      <td>113</td>\n",
       "      <td>$3.20</td>\n",
       "      <td>$361.94</td>\n",
       "      <td>$4.47</td>\n",
       "    </tr>\n",
       "    <tr>\n",
       "      <th>Male</th>\n",
       "      <td>652</td>\n",
       "      <td>$3.02</td>\n",
       "      <td>$1,967.64</td>\n",
       "      <td>$4.07</td>\n",
       "    </tr>\n",
       "    <tr>\n",
       "      <th>Other / Non-Disclosed</th>\n",
       "      <td>15</td>\n",
       "      <td>$3.35</td>\n",
       "      <td>$50.19</td>\n",
       "      <td>$4.56</td>\n",
       "    </tr>\n",
       "  </tbody>\n",
       "</table>\n",
       "</div>"
      ],
      "text/plain": [
       "                       Purchase Count Average Purchase Price  \\\n",
       "Gender                                                         \n",
       "Female                            113                  $3.20   \n",
       "Male                              652                  $3.02   \n",
       "Other / Non-Disclosed              15                  $3.35   \n",
       "\n",
       "                      Total Purchase Value Avg Total Purchase per Person  \n",
       "Gender                                                                    \n",
       "Female                             $361.94                         $4.47  \n",
       "Male                             $1,967.64                         $4.07  \n",
       "Other / Non-Disclosed               $50.19                         $4.56  "
      ]
     },
     "execution_count": 7,
     "metadata": {},
     "output_type": "execute_result"
    }
   ],
   "source": [
    "# Run basic calculations to obtain purchase count, avg. purchase price, avg. purchase total per person etc. by gender\\\n",
    "purchase_by_gender_analysis_df = purchase_data_df.loc[:, [\"SN\", \"Gender\", \"Price\"]]\n",
    "# Calculations on female data\n",
    "female_purchase_analysis_df = purchase_by_gender_analysis_df.loc[purchase_by_gender_analysis_df[\"Gender\"]==\"Female\"]\n",
    "female_purchase_count = female_purchase_analysis_df[\"Gender\"].count()\n",
    "female_purchase_average = female_purchase_analysis_df[\"Price\"].mean()\n",
    "female_purchase_total_value = female_purchase_analysis_df[\"Price\"].sum()\n",
    "female_purchase_avgperperson = female_purchase_total_value/num_of_female_player\n",
    "# Calculations on male data\n",
    "male_purchase_analysis_df = purchase_by_gender_analysis_df.loc[purchase_by_gender_analysis_df[\"Gender\"]==\"Male\"]\n",
    "male_purchase_count = male_purchase_analysis_df[\"Gender\"].count()\n",
    "male_purchase_average = male_purchase_analysis_df[\"Price\"].mean()\n",
    "male_purchase_total_value = male_purchase_analysis_df[\"Price\"].sum()\n",
    "male_purchase_avgperperson = male_purchase_total_value/num_of_male_player\n",
    "# Calculations on other data\n",
    "other_purchase_analysis_df = purchase_by_gender_analysis_df.loc[purchase_by_gender_analysis_df[\"Gender\"]==\"Other / Non-Disclosed\"]\n",
    "other_purchase_count = other_purchase_analysis_df[\"Gender\"].count()\n",
    "other_purchase_average = other_purchase_analysis_df[\"Price\"].mean()\n",
    "other_purchase_total_value = other_purchase_analysis_df[\"Price\"].sum()\n",
    "other_purchase_avgperperson = other_purchase_total_value/num_of_other_player\n",
    "# Create a summary data frame to hold the results\n",
    "purchase_analysis_gender_dict = {\n",
    "    \"Gender\": [\"Female\", \"Male\", \"Other / Non-Disclosed\"],\n",
    "    \"Purchase Count\": [female_purchase_count, male_purchase_count, other_purchase_count],\n",
    "    \"Average Purchase Price\": [female_purchase_average, male_purchase_average, other_purchase_average],\n",
    "    \"Total Purchase Value\": [female_purchase_total_value, male_purchase_total_value, other_purchase_total_value],\n",
    "    \"Avg Total Purchase per Person\": [female_purchase_avgperperson, male_purchase_avgperperson, other_purchase_avgperperson]\n",
    "}\n",
    "purchase_analysis_gender_df = pd.DataFrame(purchase_analysis_gender_dict).set_index(\"Gender\")\n",
    "# give the displayed data cleaner formatting\n",
    "purchase_analysis_gender_df[\"Average Purchase Price\"] = purchase_analysis_gender_df[\"Average Purchase Price\"].map(\"${:,.2f}\".format)\n",
    "purchase_analysis_gender_df[\"Total Purchase Value\"] = purchase_analysis_gender_df[\"Total Purchase Value\"].map(\"${:,.2f}\".format)\n",
    "purchase_analysis_gender_df[\"Avg Total Purchase per Person\"] = purchase_analysis_gender_df[\"Avg Total Purchase per Person\"].map(\"${:,.2f}\".format)\n",
    "# Display the summary data frame\n",
    "purchase_analysis_gender_df\n"
   ]
  },
  {
   "cell_type": "markdown",
   "metadata": {},
   "source": [
    "##  Age Demographics"
   ]
  },
  {
   "cell_type": "code",
   "execution_count": null,
   "metadata": {},
   "outputs": [],
   "source": []
  }
 ],
 "metadata": {
  "kernelspec": {
   "display_name": "Python 3",
   "language": "python",
   "name": "python3"
  },
  "language_info": {
   "codemirror_mode": {
    "name": "ipython",
    "version": 3
   },
   "file_extension": ".py",
   "mimetype": "text/x-python",
   "name": "python",
   "nbconvert_exporter": "python",
   "pygments_lexer": "ipython3",
   "version": "3.6.13"
  }
 },
 "nbformat": 4,
 "nbformat_minor": 4
}
